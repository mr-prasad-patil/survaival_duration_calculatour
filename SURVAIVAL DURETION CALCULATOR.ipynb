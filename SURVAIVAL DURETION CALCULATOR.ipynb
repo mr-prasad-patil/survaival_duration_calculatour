{
 "cells": [
  {
   "cell_type": "code",
   "execution_count": 2,
   "id": "a5612e42",
   "metadata": {},
   "outputs": [
    {
     "name": "stdout",
     "output_type": "stream",
     "text": [
      "Age to Duration Calculator\n",
      "----------------------------\n",
      "Enter the age of the person: 23\n",
      "Enter the time unit (months/weeks/days/hours/minutes/seconds): months\n",
      "The person has lived for approximately 276.00 months.\n"
     ]
    }
   ],
   "source": [
    "from datetime import datetime\n",
    "\n",
    "def age_to_duration(age, unit):\n",
    "    current_date = datetime.now()\n",
    "    birth_date = current_date.replace(year=current_date.year - age)\n",
    "\n",
    "    if unit == 'months':\n",
    "        duration = (current_date.year - birth_date.year) * 12 + current_date.month - birth_date.month\n",
    "    elif unit == 'weeks':\n",
    "        duration = (current_date - birth_date).days // 7\n",
    "    elif unit == 'days':\n",
    "        duration = (current_date - birth_date).days\n",
    "    elif unit == 'hours':\n",
    "        duration = (current_date - birth_date).total_seconds() / 3600\n",
    "    elif unit == 'minutes':\n",
    "        duration = (current_date - birth_date).total_seconds() / 60\n",
    "    elif unit == 'seconds':\n",
    "        duration = (current_date - birth_date).total_seconds()\n",
    "    else:\n",
    "        return \"Invalid time unit\"\n",
    "\n",
    "    return duration\n",
    "\n",
    "def main():\n",
    "    print(\"Age to Duration Calculator\")\n",
    "    print(\"----------------------------\")\n",
    "\n",
    "    try:\n",
    "        age = int(input(\"Enter the age of the person: \"))\n",
    "        unit = input(\"Enter the time unit (months/weeks/days/hours/minutes/seconds): \").lower()\n",
    "\n",
    "        if unit not in ['months', 'weeks', 'days', 'hours', 'minutes', 'seconds']:\n",
    "            print(\"Invalid time unit. Please choose from the given options.\")\n",
    "            return\n",
    "\n",
    "        result = age_to_duration(age, unit)\n",
    "        if isinstance(result, str):\n",
    "            print(result)\n",
    "        else:\n",
    "            print(f\"The person has lived for approximately {result:.2f} {unit}.\")\n",
    "\n",
    "    except ValueError:\n",
    "        print(\"Invalid input. Please enter a valid age as an integer.\")\n",
    "\n",
    "if __name__ == \"__main__\":\n",
    "    main()\n"
   ]
  },
  {
   "cell_type": "code",
   "execution_count": null,
   "id": "eb3119d5",
   "metadata": {},
   "outputs": [],
   "source": []
  },
  {
   "cell_type": "code",
   "execution_count": null,
   "id": "1bffa0e3",
   "metadata": {},
   "outputs": [],
   "source": []
  },
  {
   "cell_type": "code",
   "execution_count": null,
   "id": "564d18fd",
   "metadata": {},
   "outputs": [],
   "source": []
  }
 ],
 "metadata": {
  "kernelspec": {
   "display_name": "Python 3 (ipykernel)",
   "language": "python",
   "name": "python3"
  },
  "language_info": {
   "codemirror_mode": {
    "name": "ipython",
    "version": 3
   },
   "file_extension": ".py",
   "mimetype": "text/x-python",
   "name": "python",
   "nbconvert_exporter": "python",
   "pygments_lexer": "ipython3",
   "version": "3.11.4"
  }
 },
 "nbformat": 4,
 "nbformat_minor": 5
}
